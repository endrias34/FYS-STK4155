{
 "cells": [
  {
   "cell_type": "markdown",
   "metadata": {},
   "source": [
    "# Use grid search for the optimal hyperparameters $\\eta$ and $\\lambda$ of the customized autoencoder\n",
    "The evaluation metrics used here is R2-score."
   ]
  },
  {
   "cell_type": "code",
   "execution_count": null,
   "metadata": {},
   "outputs": [],
   "source": [
    "import numpy as np\n",
    "import matplotlib.pyplot as plt\n",
    "from autoencoder_l2 import *\n",
    "import function as fx\n",
    "import seaborn as sns"
   ]
  },
  {
   "cell_type": "markdown",
   "metadata": {},
   "source": [
    "### Computionally very heavy!!"
   ]
  },
  {
   "cell_type": "code",
   "execution_count": null,
   "metadata": {},
   "outputs": [],
   "source": [
    "# load the training and validation data\n",
    "noisy_train = np.load(\"../data/noisy_train_pro3.npy\")\n",
    "noisy_valid = np.load(\"../data/noisy_valid_pro3.npy\")\n",
    "clean_train = np.load('../data/clean_train_pro3.npy')\n",
    "clean_valid = np.load('../data/clean_valid_pro3.npy')\n",
    "clean_train = np.reshape(clean_train, (clean_train.shape[0], clean_train.shape[1], clean_train.shape[2], 1))\n",
    "noisy_train = np.reshape(noisy_train, (noisy_train.shape[0], noisy_train.shape[1], noisy_train.shape[2], 1))\n",
    "clean_valid = np.reshape(clean_valid, (clean_valid.shape[0], clean_valid.shape[1], clean_valid.shape[2], 1))\n",
    "noisy_valid = np.reshape(noisy_valid, (noisy_valid.shape[0], noisy_valid.shape[1], noisy_valid.shape[2], 1))\n",
    "print('Data loaded.')"
   ]
  },
  {
   "cell_type": "code",
   "execution_count": null,
   "metadata": {},
   "outputs": [],
   "source": [
    "# parameters setting\n",
    "filters       = [32, 64, 128, 256, 128, 64, 32]\n",
    "filter_sizes  = [(3,3), (3,3), (3,3), (3,3), (3,3), (3,3), (3,3)]\n",
    "AF            = 'tanh'\n",
    "last_layer_AF = None\n",
    "loss          = 'mse'\n",
    "optimizer     = 'RMSprop'\n",
    "input_shape   = noisy_valid.shape[1:4]\n",
    "batch_size    = 2\n",
    "epochs        = 1\n",
    "# define the search ranges of eta and lambda\n",
    "eta_vals      = [0.000075, 0.0001, 0.00025, 0.0005]\n",
    "lmbd_vals     = [0, 1e-7, 1e-6, 1e-5, 1e-4, 1e-3]"
   ]
  },
  {
   "cell_type": "code",
   "execution_count": null,
   "metadata": {},
   "outputs": [],
   "source": [
    "# apply grid search and save the trained models\n",
    "# R2-score is calculated based on the validation data set\n",
    "CNN_keras       = np.zeros((len(eta_vals), len(lmbd_vals)), dtype=object)\n",
    "valid_r2_matrix = np.zeros((len(eta_vals), len(lmbd_vals)))\n",
    "\n",
    "for i, eta in enumerate(eta_vals):\n",
    "    for j, lmbd in enumerate(lmbd_vals):\n",
    "        CNN = denoise_network_train2(input_shape, filters, filter_sizes, AF, last_layer_AF,\n",
    "                                     lmbd, eta, loss, optimizer)\n",
    "\n",
    "        CNN.fit(noisy_train, clean_train, epochs = epochs, batch_size = batch_size, \n",
    "                verbose = 0, validation_data = (noisy_valid, clean_valid))\n",
    "\n",
    "        denoised_valid        = CNN.predict(noisy_valid)\n",
    "        valid_r2              = fx.R2Score(denoised_valid, clean_valid)\n",
    "        valid_r2_matrix[i][j] = valid_r2\n",
    "        CNN_keras[i][j]       = CNN\n",
    "\n",
    "        CNN.save('../model/eta{}_lmd{}_model_l2.h5'.format(eta, lmbd))\n",
    "        CNN.save_weights('../weights/eta{}_lmd{}_weights_l2.h5'.format(eta, lmbd))\n",
    "\n",
    "        print(\"Learning rate = \", eta)\n",
    "        print(\"Lambda = \", lmbd)\n",
    "        print(\"Validation R2-score: %.4f\" % valid_r2)"
   ]
  },
  {
   "cell_type": "code",
   "execution_count": null,
   "metadata": {},
   "outputs": [],
   "source": [
    "# visual representation of grid search\n",
    "yticklabels = eta_vals\n",
    "xticklabels = lmbd_vals\n",
    "\n",
    "plt.subplots(figsize=(17,12))\n",
    "ax=plt.subplot(1,1,1)\n",
    "sns.heatmap(valid_r2_matrix, annot = True, fmt=\".3f\", linewidths=.1,\n",
    "                cmap = \"viridis\",annot_kws={\"size\": 35, 'weight':'bold'},\n",
    "           yticklabels = yticklabels, xticklabels = xticklabels);\n",
    "cbar = ax.collections[0].colorbar\n",
    "cbar.ax.tick_params(labelsize=35)\n",
    "plt.ylabel(r'$\\eta$',fontsize=35);\n",
    "plt.xlabel(r'$\\lambda$',fontsize=35);\n",
    "all_sample_title = 'Validation R2-score'\n",
    "plt.title(all_sample_title, size =35);\n",
    "ax.tick_params(axis='x', which='major', labelsize=35,pad=1)\n",
    "ax.tick_params(axis='y', which='major', labelsize=35,pad=1)\n",
    "ax.set_ylim([len(eta_vals), 0])\n",
    "\n",
    "#plt.savefig('../plot_img/network_grid_search.png', bbox_inches='tight', dpi=200)"
   ]
  },
  {
   "cell_type": "markdown",
   "metadata": {},
   "source": [
    "## Use the trained models provided by the authors to plot the history R2-score."
   ]
  },
  {
   "cell_type": "code",
   "execution_count": null,
   "metadata": {},
   "outputs": [],
   "source": [
    "# load the trained models provided by the authors and calculate the R2-score on validation data\n",
    "valid_r2_matrix = np.zeros((len(eta_vals), len(lmbd_vals)))\n",
    "\n",
    "for i, eta in enumerate(eta_vals):\n",
    "    for j, lmbd in enumerate(lmbd_vals):\n",
    "\n",
    "        prev_model   = '../model/eta{}_lmd{}_model.h5'.format(eta, lmbd)\n",
    "        prev_weights = '../weights/eta{}_lmd{}_weights.h5'.format(eta, lmbd)\n",
    "        CNN          = load_model(prev_model)\n",
    "        weights      = CNN.load_weights(prev_weights)\n",
    "        \n",
    "        denoised_valid        = CNN.predict(noisy_valid)\n",
    "        valid_r2_matrix[i][j] = fx.R2Score(denoised_valid, clean_valid)\n",
    "        \n",
    "# visual representation of grid search\n",
    "sns.set()\n",
    "yticklabels = eta_vals\n",
    "xticklabels = lmbd_vals\n",
    "\n",
    "plt.subplots(figsize=(17,12))\n",
    "ax=plt.subplot(1,1,1)\n",
    "sns.heatmap(valid_r2_matrix, annot = True, fmt=\".3f\", linewidths=.1,\n",
    "                cmap = \"viridis\",annot_kws={\"size\": 35, 'weight':'bold'},\n",
    "           yticklabels = yticklabels, xticklabels = xticklabels);\n",
    "cbar = ax.collections[0].colorbar\n",
    "cbar.ax.tick_params(labelsize=35)\n",
    "plt.ylabel(r'$\\eta$',fontsize=35);\n",
    "plt.xlabel(r'$\\lambda$',fontsize=35);\n",
    "all_sample_title = 'Validation R2-score'\n",
    "plt.title(all_sample_title, size =35);\n",
    "ax.tick_params(axis='x', which='major', labelsize=35,pad=1)\n",
    "ax.tick_params(axis='y', which='major', labelsize=35,pad=1)\n",
    "ax.set_ylim([len(eta_vals), 0])\n",
    "\n",
    "#plt.savefig('../plot_img/network_grid_search_hist.png', bbox_inches='tight', dpi=200)"
   ]
  }
 ],
 "metadata": {
  "kernelspec": {
   "display_name": "Python 3",
   "language": "python",
   "name": "python3"
  },
  "language_info": {
   "codemirror_mode": {
    "name": "ipython",
    "version": 3
   },
   "file_extension": ".py",
   "mimetype": "text/x-python",
   "name": "python",
   "nbconvert_exporter": "python",
   "pygments_lexer": "ipython3",
   "version": "3.7.4"
  }
 },
 "nbformat": 4,
 "nbformat_minor": 2
}
