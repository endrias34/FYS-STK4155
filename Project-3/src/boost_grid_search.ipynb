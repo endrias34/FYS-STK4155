{
 "cells": [
  {
   "cell_type": "markdown",
   "metadata": {},
   "source": [
    "# Use grid search for the optimal hyperparameters $\\rho$ and $\\tau$ of SOS boosting\n",
    "The evaluation metrics used here are SNR and R2-score."
   ]
  },
  {
   "cell_type": "code",
   "execution_count": null,
   "metadata": {},
   "outputs": [],
   "source": [
    "import numpy as np\n",
    "import matplotlib.pyplot as plt\n",
    "from keras.models import Model, load_model\n",
    "import function as fx\n",
    "import seaborn as sns"
   ]
  },
  {
   "cell_type": "code",
   "execution_count": null,
   "metadata": {},
   "outputs": [],
   "source": [
    "# load the validation data set: manually merged data\n",
    "noisy_valid = np.load(\"../data/noisy_valid_pro3.npy\")\n",
    "clean_valid = np.load('../data/clean_valid_pro3.npy')\n",
    "clean_valid_4d = np.reshape(clean_valid, (clean_valid.shape[0], clean_valid.shape[1], clean_valid.shape[2], 1))\n",
    "noisy_valid_4d = np.reshape(noisy_valid, (noisy_valid.shape[0], noisy_valid.shape[1], noisy_valid.shape[2], 1))\n",
    "print('Data loaded.')\n",
    "print('The size of the noisy data set is:', noisy_valid.shape)\n",
    "print('The size of the ground truth data set is:', clean_valid.shape)\n",
    "\n",
    "# load the model\n",
    "eta       = 0.00025\n",
    "lmbd      = 1e-6\n",
    "prev_model   = '../model/eta{}_lmd{}_model.h5'.format(eta, lmbd)\n",
    "prev_weights = '../weights/eta{}_lmd{}_weights.h5'.format(eta, lmbd)\n",
    "model         = load_model(prev_model)\n",
    "weights       = model.load_weights(prev_weights)\n",
    "print('Model loaded.')\n",
    "\n",
    "# Apply CNN denoising\n",
    "denoised_valid_4d = model.predict(noisy_valid_4d)\n",
    "denoised_valid    = np.reshape(denoised_valid_4d,(clean_valid.shape[0], clean_valid.shape[1], clean_valid.shape[2]))\n",
    "print('CNN denoising finished.')"
   ]
  },
  {
   "cell_type": "code",
   "execution_count": null,
   "metadata": {},
   "outputs": [],
   "source": [
    "# calculate the SnR \n",
    "print('SNR of the noisy validation set is:',fx.SNR(clean_valid, noisy_valid))\n",
    "print('SNR of the CNN denoised validation set is:',fx.SNR(clean_valid, denoised_valid))\n",
    "\n",
    "# calculate the R2-score\n",
    "print('R2-score of the noisy validation set is:', fx.R2Score(clean_valid, noisy_valid))\n",
    "print('R2-score of the CNN denoised validation set is:',fx.R2Score(clean_valid, denoised_valid))"
   ]
  },
  {
   "cell_type": "code",
   "execution_count": null,
   "metadata": {
    "scrolled": true
   },
   "outputs": [],
   "source": [
    "# Define the search ranges of rho and tau\n",
    "rho_vals  = [-0.75, -0.25, -0.1, 0.1, 0.25, 0.75]\n",
    "tau_vals  = [0.1, 0.25, 0.75, 1, 1.25, 1.75]\n",
    "\n",
    "SNR_valid_bst_matrix = np.zeros((len(rho_vals), len(tau_vals)))\n",
    "R2_valid_bst_matrix  = np.zeros((len(rho_vals), len(tau_vals)))\n",
    "\n",
    "print('Grid search started.')\n",
    "for i, rho in enumerate(rho_vals):\n",
    "    for j, tau in enumerate(tau_vals):        \n",
    "        denoised_valid_bst_4d = denoised_valid_4d\n",
    "        \n",
    "        for n in range(10):\n",
    "            denoised_valid_bst_4d = fx.Boost(rho, tau, model, noisy_valid_4d, denoised_valid_bst_4d)\n",
    "            \n",
    "        denoised_valid_bst = np.reshape(denoised_valid_bst_4d,(clean_valid.shape[0], clean_valid.shape[1], clean_valid.shape[2]))\n",
    "  \n",
    "        R2_valid_bst_matrix[i][j]  = fx.R2Score(denoised_valid_bst, clean_valid)\n",
    "        SNR_valid_bst_matrix[i][j] = fx.SNR(clean_valid, denoised_valid_bst)\n",
    "        \n",
    "print('Grid search finished.')"
   ]
  },
  {
   "cell_type": "code",
   "execution_count": null,
   "metadata": {},
   "outputs": [],
   "source": [
    "# visual representation of grid search\n",
    "sns.set()\n",
    "yticklabels = rho_vals\n",
    "xticklabels = tau_vals\n",
    "\n",
    "plt.subplots(figsize = (25, 50))\n",
    "ax = plt.subplot(2,1,1)\n",
    "sns.heatmap(SNR_valid_bst_matrix, annot = True, fmt=\".3f\", linewidths=.1,\n",
    "               cmap = \"viridis\",annot_kws={\"size\": 30, 'weight':'bold'},\n",
    "            yticklabels = yticklabels, xticklabels = xticklabels);\n",
    "cbar = ax.collections[0].colorbar\n",
    "cbar.ax.tick_params(labelsize=35)\n",
    "plt.ylabel(r'$\\rho$',fontsize=45);\n",
    "plt.xlabel(r'$\\tau$',fontsize=45);\n",
    "all_sample_title = 'SNR of the denoising result after applying SOS boosting'\n",
    "plt.title(all_sample_title, size =45);\n",
    "ax.tick_params(axis='x', which='major', labelsize=40,pad=1)\n",
    "ax.tick_params(axis='y', which='major', labelsize=40,pad=1)\n",
    "ax.set_ylim([len(rho_vals), 0])\n",
    "\n",
    "ax = plt.subplot(2,1,2)\n",
    "sns.heatmap(R2_valid_bst_matrix, annot = True, fmt=\".3f\", linewidths=.1,\n",
    "               cmap = \"viridis\",annot_kws={\"size\": 30, 'weight':'bold'},\n",
    "            yticklabels = yticklabels, xticklabels = xticklabels);\n",
    "cbar = ax.collections[0].colorbar\n",
    "cbar.ax.tick_params(labelsize=35)\n",
    "plt.ylabel(r'$\\rho$',fontsize=45);\n",
    "plt.xlabel(r'$\\tau$',fontsize=45);\n",
    "all_sample_title = 'R2-score of the denoising result after applying SOS boosting'\n",
    "plt.title(all_sample_title, size=45);\n",
    "ax.tick_params(axis='x', which='major', labelsize=40,pad=1)\n",
    "ax.tick_params(axis='y', which='major', labelsize=40,pad=1)\n",
    "ax.set_ylim([len(rho_vals), 0])\n",
    "\n",
    "#plt.savefig('../plot_img/boost_grid_search.png', bbox_inches='tight', dpi=200)"
   ]
  },
  {
   "cell_type": "code",
   "execution_count": null,
   "metadata": {},
   "outputs": [],
   "source": []
  }
 ],
 "metadata": {
  "kernelspec": {
   "display_name": "Python 3",
   "language": "python",
   "name": "python3"
  },
  "language_info": {
   "codemirror_mode": {
    "name": "ipython",
    "version": 3
   },
   "file_extension": ".py",
   "mimetype": "text/x-python",
   "name": "python",
   "nbconvert_exporter": "python",
   "pygments_lexer": "ipython3",
   "version": "3.7.4"
  }
 },
 "nbformat": 4,
 "nbformat_minor": 4
}
