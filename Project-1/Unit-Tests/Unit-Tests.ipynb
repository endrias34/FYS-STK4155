{
 "cells": [
  {
   "cell_type": "markdown",
   "metadata": {},
   "source": [
    "# We use a $2^{nd}$ order polynomial to check our OLS and Ridge regression code. We also benchmark our regression result by comparing against sklearn"
   ]
  },
  {
   "cell_type": "code",
   "execution_count": 44,
   "metadata": {},
   "outputs": [],
   "source": [
    "import matplotlib.pyplot as plt\n",
    "from matplotlib import cm \n",
    "from matplotlib.ticker import LinearLocator, FormatStrFormatter \n",
    "import numpy as np \n",
    "from random import random, seed\n",
    "import functions as fx\n",
    "import sklearn.model_selection as sklm\n",
    "from sklearn.model_selection import KFold\n",
    "from sklearn.preprocessing import StandardScaler\n",
    "from sklearn.model_selection import  train_test_split\n",
    "from sklearn.linear_model import LinearRegression, Ridge, Lasso\n",
    "from sklearn.preprocessing import PolynomialFeatures\n",
    "from sklearn.pipeline import make_pipeline\n",
    "from sklearn.utils import resample\n",
    "from sklearn.metrics import mean_squared_error, r2_score"
   ]
  },
  {
   "cell_type": "markdown",
   "metadata": {},
   "source": [
    "# OLS check"
   ]
  },
  {
   "cell_type": "code",
   "execution_count": 46,
   "metadata": {},
   "outputs": [
    {
     "name": "stdout",
     "output_type": "stream",
     "text": [
      "Beta Approved by exact\n",
      "Beta Approved by Sklearn\n",
      "MSE Approved by Sklearn\n",
      "R2 did not pass by Sklearn\n"
     ]
    }
   ],
   "source": [
    "# Data sample and noise variance\n",
    "N        = 100\n",
    "sigma    = 0.0\n",
    "poly_deg = 3\n",
    "\n",
    "# Independent varables\n",
    "x = np.linspace(0.05,0.95,N)\n",
    "\n",
    "# Gaussian random noise\n",
    "noise = sigma*np.random.randn(N_train)\n",
    "\n",
    "#linear model\n",
    "beta_exact = np.array([8, 2, 5])\n",
    "beta_exact = beta_exact.reshape(-1,1)\n",
    "\n",
    "# Design matrix\n",
    "X      = np.zeros((N,poly_deg))\n",
    "X[:,2] = x**2\n",
    "X[:,1] = x\n",
    "X[:,0] = 1\n",
    "\n",
    "# Dependent variabel\n",
    "y = X@beta_exact\n",
    "\n",
    "# OLS \n",
    "beta_OLS, pred_OLS, _ = fx.OridinaryLeastSquares(X,y,X) \n",
    "MSE_OLS = fx.MSE(y,pred_OLS)\n",
    "R2_OLS  = fx.R2Score(y,pred_OLS)\n",
    "\n",
    "# OLS using Sklearn\n",
    "OLS_sk = LinearRegression(fit_intercept=True)\n",
    "OLS_sk.fit(X, y)\n",
    "beta_OLS_sk    = OLS_sk.coef_\n",
    "pred_OLS_sk    = OLS_sk.predict(X)\n",
    "MSE_OLS_sk     = mean_squared_error(y, pred_OLS_sk)\n",
    "R2_OLS_sk      = r2_score(y, pred_OLS_sk)\n",
    "\n",
    "# Print results\n",
    "if (np.mean(beta_OLS - beta_exact)) < 1e-10:\n",
    "    print('Beta Approved by exact')\n",
    "else:\n",
    "    print('Beta did not pass by exact')\n",
    "    \n",
    "if (np.mean(beta_OLS - beta_OLS_sk)) < 1e-10:\n",
    "    print('Beta Approved by Sklearn')\n",
    "else:\n",
    "    print('Beta did not pass by Sklearn')\n",
    "    \n",
    "if (MSE_OLS - MSE_OLS_sk) < 1e-10:\n",
    "    print('MSE Approved by Sklearn')\n",
    "else:\n",
    "    print('MSE did not pass by Sklearn')\n",
    "    \n",
    "if (R2_OLS - R2_OLS_sk) < 1e-2:\n",
    "    print('R2 Approved by Sklearn')\n",
    "else:\n",
    "    print('R2 did not pass by Sklearn')"
   ]
  },
  {
   "cell_type": "markdown",
   "metadata": {},
   "source": [
    "# Ridge check"
   ]
  },
  {
   "cell_type": "code",
   "execution_count": 66,
   "metadata": {},
   "outputs": [
    {
     "name": "stdout",
     "output_type": "stream",
     "text": [
      "Beta Approved by exact\n",
      "Beta Approved by Sklearn\n",
      "MSE Approved by Sklearn\n",
      "R2 Approved by Sklearn\n"
     ]
    }
   ],
   "source": [
    "# Data sample and noise variance\n",
    "N        = 100\n",
    "sigma    = 0.0\n",
    "poly_deg = 3\n",
    "\n",
    "# Independent varables\n",
    "x = np.linspace(0.05,0.95,N)\n",
    "\n",
    "# Gaussian random noise\n",
    "noise = sigma*np.random.randn(N_train)\n",
    "\n",
    "#linear model\n",
    "beta_exact = np.array([8, 2, 5])\n",
    "beta_exact = beta_exact.reshape(-1,1)\n",
    "\n",
    "# Design matrix\n",
    "X      = np.zeros((N,poly_deg))\n",
    "X[:,2] = x**2\n",
    "X[:,1] = x\n",
    "X[:,0] = 1\n",
    "\n",
    "# Dependent variabel\n",
    "y = X@beta_exact\n",
    "\n",
    "\n",
    "# Ridge \n",
    "beta_Ridge, pred_Ridge, _ = fx.RidgeRegression(X,y,X) \n",
    "MSE_Ridge = fx.MSE(y,pred_Ridge)\n",
    "R2_Ridge  = fx.R2Score(y,pred_Ridge)\n",
    "\n",
    "# Ridge using Sklearn\n",
    "Ridge_sk = Ridge(fit_intercept=True)\n",
    "Ridge_sk.fit(X, y)\n",
    "beta_Ridge_sk    = Ridge_sk.coef_\n",
    "pred_Ridge_sk    = Ridge_sk.predict(X)\n",
    "MSE_Ridge_sk     = mean_squared_error(y, pred_Ridge_sk)\n",
    "R2_Ridge_sk      = r2_score(y, pred_Ridge_sk)\n",
    "beta_Ridge_sk[0] = Ridge_sk.intercept_\n",
    "\n",
    "# Print results\n",
    "if (np.mean(beta_Ridge - beta_exact)) < 1e-10:\n",
    "    print('Beta Approved by exact')\n",
    "else:\n",
    "    print('Beta did not pass by exact')\n",
    "    \n",
    "if (np.mean(beta_Ridge - beta_Ridge_sk)) < 1e-10:\n",
    "    print('Beta Approved by Sklearn')\n",
    "else:\n",
    "    print('Beta did not pass by Sklearn')\n",
    "    \n",
    "if (MSE_Ridge - MSE_Ridge_sk) < 1e-10:\n",
    "    print('MSE Approved by Sklearn')\n",
    "else:\n",
    "    print('MSE did not pass by Sklearn')\n",
    "    \n",
    "if (R2_Ridge - R2_Ridge_sk) < 1e-2:\n",
    "    print('R2 Approved by Sklearn')\n",
    "else:\n",
    "    print('R2 did not pass by Sklearn')"
   ]
  }
 ],
 "metadata": {
  "kernelspec": {
   "display_name": "Python 3",
   "language": "python",
   "name": "python3"
  },
  "language_info": {
   "codemirror_mode": {
    "name": "ipython",
    "version": 3
   },
   "file_extension": ".py",
   "mimetype": "text/x-python",
   "name": "python",
   "nbconvert_exporter": "python",
   "pygments_lexer": "ipython3",
   "version": "3.8.3"
  }
 },
 "nbformat": 4,
 "nbformat_minor": 4
}
